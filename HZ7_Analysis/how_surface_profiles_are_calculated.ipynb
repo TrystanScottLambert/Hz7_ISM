{
 "cells": [
  {
   "cell_type": "markdown",
   "metadata": {},
   "source": [
    "### The purpose of this notebook is to explain the process of creating surface profiles. For hubble images these will be surface brightness profiles. For the ALMA moments maps this would be Flux density profiles. "
   ]
  },
  {
   "cell_type": "markdown",
   "metadata": {},
   "source": []
  },
  {
   "cell_type": "markdown",
   "metadata": {},
   "source": [
    "First it is important to generate a test case that we can use to test our functions against. In order to do this we generate some 2d emission using a sersic profile which we will have to recover later. "
   ]
  },
  {
   "cell_type": "code",
   "execution_count": 2,
   "metadata": {},
   "outputs": [],
   "source": [
    "import numpy as np \n",
    "import matplotlib.pyplot as plt\n",
    "from astropy.modeling import models"
   ]
  },
  {
   "cell_type": "code",
   "execution_count": 12,
   "metadata": {},
   "outputs": [
    {
     "data": {
      "text/plain": [
       "<matplotlib.image.AxesImage at 0x7fa44fb09080>"
      ]
     },
     "execution_count": 12,
     "metadata": {},
     "output_type": "execute_result"
    },
    {
     "data": {
      "image/png": "[encoded data removed]",
      "text/plain": [
       "<Figure size 432x288 with 1 Axes>"
      ]
     },
     "metadata": {
      "needs_background": "light"
     },
     "output_type": "display_data"
    }
   ],
   "source": [
    "NUMBER_OF_ROWS = 240\n",
    "NUMBER_OF_COLUMNS = 240\n",
    "\n",
    "y, x = np.mgrid[:NUMBER_OF_ROWS, :NUMBER_OF_COLUMNS]\n",
    "\n",
    "sersic_model = models.Sersic2D(amplitude=1, r_eff = 20, n=0.8, x_0=0.5*NUMBER_OF_COLUMNS, y_0 = 0.5*NUMBER_OF_ROWS, ellip=0.3, theta=0.2)\n",
    "image = sersic_model(x,y)\n",
    "plt.imshow(image)"
   ]
  },
  {
   "cell_type": "markdown",
   "metadata": {},
   "source": [
    "### Uncertainties\n",
    "\n",
    "#### Propogation of log error\n",
    "\n",
    "\n",
    "\\begin{align*}\n",
    "f & = a\\log_{10}\\left(bA\\right) \\\\\n",
    "\\Rightarrow u(f) & \\approx a\\frac{u(A)}{A \\ln\\left(10\\right)}  \n",
    "\\end{align*}\n",
    "\n",
    "therefore:\n",
    "\\begin{align*}\n",
    "\\text{ST}_{\\rm mag} & = -2.5 \\log\\left(F_{\\lambda}\\right) -21.1 \\\\\n",
    "u(\\text{ST}_{\\rm mag}) & \\approx 2.5 \\frac{u(F_{\\lambda})}{F_{\\lambda} \\ln\\left(10\\right)}\n",
    "\\end{align*}\n",
    "\n",
    "Taking an \"average flux\": $\\bar{F_{\\lambda}}  = \\frac{F_{\\lambda}}{A}$ where $A$ is the area of the region. We get:\n",
    "\n",
    "\\begin{align*}\n",
    "u\\left(\\bar{\\text{ST}_{\\rm mag}}\\right)  & \\approx 2.5\\frac{u\\left(\\frac{F_{\\lambda}}{A}\\right)}{\\frac{F_{\\lambda}}{A}} \\\\\n",
    "& \\approx 2.5 \\frac{\\frac{u(F_{\\lambda})}{A}}{\\frac{F_{\\lambda}}{A} \\ln\\left(10\\right)} \\\\\n",
    "& \\approx 2.5 \\left(\\frac{u(F_{\\lambda})}{A} \\frac{A}{F_{\\lambda} \\ln\\left(10\\right)}\\right) \\\\\n",
    "& \\approx 2.5 \\frac{u\\left(F_{\\lambda}\\right)}{F_{\\lambda} \\ln\\left(10\\right)} \\\\\n",
    "& = u\\left(\\text{ST}_{\\rm mag}\\right)\n",
    "\\end{align*}\n"
   ]
  },
  {
   "cell_type": "markdown",
   "metadata": {},
   "source": [
    "Therefore the uncertainty associated with the magnitude is the same as the uncertainty of the surface brightness so long as the uncertainty of the area is 0. This is to be expected since the $b$ variable in the first equation is not present in the uncertainty calculation."
   ]
  },
  {
   "cell_type": "markdown",
   "metadata": {},
   "source": [
    "## Working out the uncertainty of an aperture\n",
    "In order to work out the uncertainty of an aperture we need to consider the uncertainty of any given pixel $p_i$. Each pixel has a value which would be determined as the measured photons minus the background emission. This means that the uncertainty of ever pixel would be:\n",
    "\\begin{equation*}\n",
    "u(\\rm pix) = \\sqrt{u(\\gamma)^2 + u(\\rm \\beta)^2}\n",
    "\\end{equation*}\n",
    "\n",
    "I.e. uncertainty of a pixel is made up of 1) the background noise, which is simply the rms and 2) the poisson uncertainty associated with counting. The poisson noise is straight forward as is equal to the $\\sqrt{p_i}$ where $p_i$ is the value of the pixel. Thus, \n",
    "\n",
    "\n",
    "\\begin{align*}\n",
    "u(\\rm reg) &= \\sqrt{u(\\rm pix_1)^2 + u(\\rm pix_2)^2 + \\cdots + u(\\rm pix_{n-1})^2 + u(\\rm pix_{n})^2} \\\\\n",
    "&= \\sqrt{\\sum\\limits_{i=1}^n u(\\rm pix_i)^2} \\\\\n",
    "&= \\sqrt{\\sum\\limits_{i=1}^n \\left(\\sqrt{u(\\gamma_i)^2 + u(\\beta_i)^2}\\right)^2} \\\\\n",
    "&= \\sqrt{\\sum\\limits_{i=1}^n \\left(u(\\gamma_i)^2 + u(\\rm \\beta_i)^2\\right)} \\\\\n",
    "&= \\sqrt{\\sum\\limits_{i=1}^n u(\\gamma_i)^2 + \\sum\\limits_{i=1}^n u(\\beta_i)^2} \\\\\n",
    "&= \\sqrt{\\sum\\limits_{i=1}^n \\sqrt{\\gamma_i}^2 + \\sum\\limits_{i=1}^n \\sigma^2} \\\\\n",
    "&= \\sqrt{\\sum\\limits_{i=1}^n \\gamma_i + \\sum\\limits_{i=1}^n \\sigma^2} \\\\\n",
    "&= \\sqrt{F_{\\rm sum, reg} + \\sigma^2n}\n",
    "\\end{align*}\n",
    "\n",
    "\n"
   ]
  },
  {
   "cell_type": "markdown",
   "metadata": {},
   "source": [
    "\n"
   ]
  }
 ],
 "metadata": {
  "kernelspec": {
   "display_name": "Python 3.6.9 64-bit",
   "language": "python",
   "name": "python3"
  },
  "language_info": {
   "codemirror_mode": {
    "name": "ipython",
    "version": 3
   },
   "file_extension": ".py",
   "mimetype": "text/x-python",
   "name": "python",
   "nbconvert_exporter": "python",
   "pygments_lexer": "ipython3",
   "version": "3.6.9"
  },
  "orig_nbformat": 4,
  "vscode": {
   "interpreter": {
    "hash": "31f2aee4e71d21fbe5cf8b01ff0e069b9275f58929596ceb00d14d90e3e16cd6"
   }
  }
 },
 "nbformat": 4,
 "nbformat_minor": 2
}
